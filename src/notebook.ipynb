{
 "cells": [
  {
   "cell_type": "code",
   "execution_count": 113,
   "metadata": {
    "_cell_guid": "72a6e4ec-921b-43d5-b959-4c75c27e1063",
    "_uuid": "31c349db4a9e8bdac08ca6f4c9d0769cc9224772"
   },
   "outputs": [],
   "source": [
    "# This Python 3 environment comes with many helpful analytics libraries installed\n",
    "# It is defined by the kaggle/python docker image: https://github.com/kaggle/docker-python\n",
    "# For example, here's several helpful packages to load in \n",
    "\n",
    "import numpy as np # linear algebra\n",
    "import pandas as pd # data processing, CSV file I/O (e.g. pd.read_csv)\n",
    "from datetime import datetime #Monday's weekday is 0\n",
    "from matplotlib import pyplot as plt\n",
    "import seaborn as sns\n",
    "# Input data files are available in the \"../input/\" directory.\n",
    "# For example, running this (by clicking run or pressing Shift+Enter) will list the files in the input directory\n",
    "\n",
    "from sklearn import preprocessing\n",
    "from sklearn import model_selection\n",
    "from sklearn.neighbors import KNeighborsRegressor\n",
    "from sklearn import metrics\n",
    "\n",
    "#import datasets\n",
    "train = pd.read_csv('../input/train_subsampled.csv')\n",
    "#train = pd.read_csv('../input/train.csv')\n",
    "test = pd.read_csv('../input/test.csv')"
   ]
  },
  {
   "cell_type": "code",
   "execution_count": 2,
   "metadata": {
    "_cell_guid": "8327bfc5-3e3f-469f-859f-3eb529aeba6f",
    "_uuid": "36eac2ed836bf0e471d10ff66725dac16638396e"
   },
   "outputs": [
    {
     "data": {
      "text/html": [
       "<div>\n",
       "<style>\n",
       "    .dataframe thead tr:only-child th {\n",
       "        text-align: right;\n",
       "    }\n",
       "\n",
       "    .dataframe thead th {\n",
       "        text-align: left;\n",
       "    }\n",
       "\n",
       "    .dataframe tbody tr th {\n",
       "        vertical-align: top;\n",
       "    }\n",
       "</style>\n",
       "<table border=\"1\" class=\"dataframe\">\n",
       "  <thead>\n",
       "    <tr style=\"text-align: right;\">\n",
       "      <th></th>\n",
       "      <th>Unnamed: 0</th>\n",
       "      <th>id</th>\n",
       "      <th>vendor_id</th>\n",
       "      <th>pickup_datetime</th>\n",
       "      <th>dropoff_datetime</th>\n",
       "      <th>passenger_count</th>\n",
       "      <th>pickup_longitude</th>\n",
       "      <th>pickup_latitude</th>\n",
       "      <th>dropoff_longitude</th>\n",
       "      <th>dropoff_latitude</th>\n",
       "      <th>store_and_fwd_flag</th>\n",
       "      <th>trip_duration</th>\n",
       "    </tr>\n",
       "  </thead>\n",
       "  <tbody>\n",
       "    <tr>\n",
       "      <th>0</th>\n",
       "      <td>233020</td>\n",
       "      <td>id3992301</td>\n",
       "      <td>1</td>\n",
       "      <td>2016-04-13 23:51:12</td>\n",
       "      <td>2016-04-14 00:09:58</td>\n",
       "      <td>2</td>\n",
       "      <td>-74.004349</td>\n",
       "      <td>40.721706</td>\n",
       "      <td>-73.951164</td>\n",
       "      <td>40.727596</td>\n",
       "      <td>N</td>\n",
       "      <td>1126</td>\n",
       "    </tr>\n",
       "    <tr>\n",
       "      <th>1</th>\n",
       "      <td>63392</td>\n",
       "      <td>id2780455</td>\n",
       "      <td>1</td>\n",
       "      <td>2016-04-26 12:08:44</td>\n",
       "      <td>2016-04-26 12:14:32</td>\n",
       "      <td>1</td>\n",
       "      <td>-73.976555</td>\n",
       "      <td>40.758209</td>\n",
       "      <td>-73.969528</td>\n",
       "      <td>40.758339</td>\n",
       "      <td>N</td>\n",
       "      <td>348</td>\n",
       "    </tr>\n",
       "    <tr>\n",
       "      <th>2</th>\n",
       "      <td>173035</td>\n",
       "      <td>id2879664</td>\n",
       "      <td>2</td>\n",
       "      <td>2016-02-25 23:01:59</td>\n",
       "      <td>2016-02-25 23:28:27</td>\n",
       "      <td>1</td>\n",
       "      <td>-74.002937</td>\n",
       "      <td>40.733414</td>\n",
       "      <td>-73.958580</td>\n",
       "      <td>40.674599</td>\n",
       "      <td>N</td>\n",
       "      <td>1588</td>\n",
       "    </tr>\n",
       "    <tr>\n",
       "      <th>3</th>\n",
       "      <td>2592</td>\n",
       "      <td>id3557237</td>\n",
       "      <td>1</td>\n",
       "      <td>2016-02-14 15:27:04</td>\n",
       "      <td>2016-02-14 15:54:43</td>\n",
       "      <td>2</td>\n",
       "      <td>-73.874542</td>\n",
       "      <td>40.773891</td>\n",
       "      <td>-73.975082</td>\n",
       "      <td>40.765301</td>\n",
       "      <td>N</td>\n",
       "      <td>1659</td>\n",
       "    </tr>\n",
       "    <tr>\n",
       "      <th>4</th>\n",
       "      <td>1447553</td>\n",
       "      <td>id0569772</td>\n",
       "      <td>2</td>\n",
       "      <td>2016-02-17 17:05:10</td>\n",
       "      <td>2016-02-17 17:07:04</td>\n",
       "      <td>3</td>\n",
       "      <td>-73.945671</td>\n",
       "      <td>40.777981</td>\n",
       "      <td>-73.949707</td>\n",
       "      <td>40.772270</td>\n",
       "      <td>N</td>\n",
       "      <td>114</td>\n",
       "    </tr>\n",
       "  </tbody>\n",
       "</table>\n",
       "</div>"
      ],
      "text/plain": [
       "   Unnamed: 0         id  vendor_id      pickup_datetime     dropoff_datetime  \\\n",
       "0      233020  id3992301          1  2016-04-13 23:51:12  2016-04-14 00:09:58   \n",
       "1       63392  id2780455          1  2016-04-26 12:08:44  2016-04-26 12:14:32   \n",
       "2      173035  id2879664          2  2016-02-25 23:01:59  2016-02-25 23:28:27   \n",
       "3        2592  id3557237          1  2016-02-14 15:27:04  2016-02-14 15:54:43   \n",
       "4     1447553  id0569772          2  2016-02-17 17:05:10  2016-02-17 17:07:04   \n",
       "\n",
       "   passenger_count  pickup_longitude  pickup_latitude  dropoff_longitude  \\\n",
       "0                2        -74.004349        40.721706         -73.951164   \n",
       "1                1        -73.976555        40.758209         -73.969528   \n",
       "2                1        -74.002937        40.733414         -73.958580   \n",
       "3                2        -73.874542        40.773891         -73.975082   \n",
       "4                3        -73.945671        40.777981         -73.949707   \n",
       "\n",
       "   dropoff_latitude store_and_fwd_flag  trip_duration  \n",
       "0         40.727596                  N           1126  \n",
       "1         40.758339                  N            348  \n",
       "2         40.674599                  N           1588  \n",
       "3         40.765301                  N           1659  \n",
       "4         40.772270                  N            114  "
      ]
     },
     "execution_count": 2,
     "metadata": {},
     "output_type": "execute_result"
    }
   ],
   "source": [
    "train.head()"
   ]
  },
  {
   "cell_type": "markdown",
   "metadata": {
    "_cell_guid": "640b7a3c-60c6-491f-bd10-9f87905a99d8",
    "_uuid": "44a46d467cce0c0a425c9863bf4c848d050c00b2"
   },
   "source": [
    "\n",
    "1. **Feature Engineering** - (Rescaling lat and long feats and adding weekday and hour feats)"
   ]
  },
  {
   "cell_type": "code",
   "execution_count": 108,
   "metadata": {
    "_cell_guid": "648ca1ff-8966-45a6-9dc1-ec699f588435",
    "_uuid": "109ff2effd1535aadfde939389d7fba226c03be0",
    "collapsed": true
   },
   "outputs": [],
   "source": [
    "# build scalers, use both dropoff and pickup locations for this (hence the append)\n",
    "latitude_scaler = preprocessing.StandardScaler().fit(\n",
    "        train.dropoff_latitude.append(\n",
    "                train.pickup_latitude).values.reshape(-1,1))\n",
    "\n",
    "longitude_scaler = preprocessing.StandardScaler().fit(\n",
    "        train.dropoff_longitude.append(\n",
    "                train.pickup_longitude).values.reshape(-1,1))\n",
    "\n",
    "# Creating three new features: weekday, hour and trip duration and add them to an engineered dataset.\n",
    " # Do this inside a function so we don't have to repeat it to the test set\n",
    "def append_features(dataset):\n",
    "    dataset_eng = dataset.copy().drop(['Unnamed: 0','id','vendor_id'],axis=1)\n",
    "    dataset_eng['pickup_datetime'] = dataset_eng.pickup_datetime.apply(lambda x: datetime.strptime(x,'%Y-%m-%d %H:%M:%S'))\n",
    "    dataset_eng['pickup_weekday'] = dataset_eng.pickup_datetime.apply(datetime.weekday)\n",
    "    dataset_eng['pickup_hour'] = dataset_eng.pickup_datetime.apply(lambda x: x.hour)\n",
    "    #rescale pickup locations\n",
    "    dataset_eng['pickup_latitude'] = latitude_scaler.transform(dataset_eng.pickup_latitude.values.reshape(-1,1))\n",
    "    dataset_eng['pickup_longitude'] = longitude_scaler.transform(dataset_eng.pickup_longitude.values.reshape(-1,1))\n",
    "    #rescale dropoff locations\n",
    "    dataset_eng['dropoff_latitude'] = latitude_scaler.transform(dataset_eng.dropoff_latitude.values.reshape(-1,1))\n",
    "    dataset_eng['dropoff_longitude'] = longitude_scaler.transform(dataset_eng.dropoff_longitude.values.reshape(-1,1))\n",
    "    #calculate rescaled distance\n",
    "    dataset_eng['distance'] = np.sqrt( \n",
    "                                    (dataset_eng.dropoff_latitude - dataset_eng.pickup_latitude).pow(2) + \n",
    "                                    (dataset_eng.dropoff_longitude - dataset_eng.pickup_longitude).pow(2) )\n",
    "    #the following features only apply for the training set\n",
    "    if 'dropoff_datetime' in dataset.columns:\n",
    "        dataset_eng['dropoff_datetime'] = dataset_eng.dropoff_datetime.apply(lambda x: datetime.strptime(x,'%Y-%m-%d %H:%M:%S'))\n",
    "    return dataset_eng"
   ]
  },
  {
   "cell_type": "code",
   "execution_count": 109,
   "metadata": {
    "_cell_guid": "1c1e326e-f139-4068-89e9-9a51d4f89b74",
    "_uuid": "a05772de8a6cd0a286f32f2b24a0d98b95de8719",
    "scrolled": true
   },
   "outputs": [
    {
     "ename": "ValueError",
     "evalue": "labels ['Unnamed: 0'] not contained in axis",
     "output_type": "error",
     "traceback": [
      "\u001b[1;31m---------------------------------------------------------------------------\u001b[0m",
      "\u001b[1;31mValueError\u001b[0m                                Traceback (most recent call last)",
      "\u001b[1;32m<ipython-input-109-74b9d66f46f0>\u001b[0m in \u001b[0;36m<module>\u001b[1;34m()\u001b[0m\n\u001b[0;32m      1\u001b[0m \u001b[0mtrain_eng\u001b[0m \u001b[1;33m=\u001b[0m \u001b[0mappend_features\u001b[0m\u001b[1;33m(\u001b[0m\u001b[0mtrain\u001b[0m\u001b[1;33m)\u001b[0m\u001b[1;33m\u001b[0m\u001b[0m\n\u001b[1;32m----> 2\u001b[1;33m \u001b[0mtest_eng\u001b[0m \u001b[1;33m=\u001b[0m \u001b[0mappend_features\u001b[0m\u001b[1;33m(\u001b[0m\u001b[0mtest\u001b[0m\u001b[1;33m)\u001b[0m\u001b[1;33m\u001b[0m\u001b[0m\n\u001b[0m\u001b[0;32m      3\u001b[0m \u001b[0mtrain_eng\u001b[0m\u001b[1;33m.\u001b[0m\u001b[0mdescribe\u001b[0m\u001b[1;33m(\u001b[0m\u001b[1;33m)\u001b[0m\u001b[1;33m\u001b[0m\u001b[0m\n",
      "\u001b[1;32m<ipython-input-108-fd5e0197ea06>\u001b[0m in \u001b[0;36mappend_features\u001b[1;34m(dataset)\u001b[0m\n\u001b[0;32m     11\u001b[0m  \u001b[1;31m# Do this inside a function so we don't have to repeat it to the test set\u001b[0m\u001b[1;33m\u001b[0m\u001b[1;33m\u001b[0m\u001b[0m\n\u001b[0;32m     12\u001b[0m \u001b[1;32mdef\u001b[0m \u001b[0mappend_features\u001b[0m\u001b[1;33m(\u001b[0m\u001b[0mdataset\u001b[0m\u001b[1;33m)\u001b[0m\u001b[1;33m:\u001b[0m\u001b[1;33m\u001b[0m\u001b[0m\n\u001b[1;32m---> 13\u001b[1;33m     \u001b[0mdataset_eng\u001b[0m \u001b[1;33m=\u001b[0m \u001b[0mdataset\u001b[0m\u001b[1;33m.\u001b[0m\u001b[0mcopy\u001b[0m\u001b[1;33m(\u001b[0m\u001b[1;33m)\u001b[0m\u001b[1;33m.\u001b[0m\u001b[0mdrop\u001b[0m\u001b[1;33m(\u001b[0m\u001b[1;33m[\u001b[0m\u001b[1;34m'Unnamed: 0'\u001b[0m\u001b[1;33m,\u001b[0m\u001b[1;34m'id'\u001b[0m\u001b[1;33m,\u001b[0m\u001b[1;34m'vendor_id'\u001b[0m\u001b[1;33m]\u001b[0m\u001b[1;33m,\u001b[0m\u001b[0maxis\u001b[0m\u001b[1;33m=\u001b[0m\u001b[1;36m1\u001b[0m\u001b[1;33m)\u001b[0m\u001b[1;33m\u001b[0m\u001b[0m\n\u001b[0m\u001b[0;32m     14\u001b[0m     \u001b[0mdataset_eng\u001b[0m\u001b[1;33m[\u001b[0m\u001b[1;34m'pickup_datetime'\u001b[0m\u001b[1;33m]\u001b[0m \u001b[1;33m=\u001b[0m \u001b[0mdataset_eng\u001b[0m\u001b[1;33m.\u001b[0m\u001b[0mpickup_datetime\u001b[0m\u001b[1;33m.\u001b[0m\u001b[0mapply\u001b[0m\u001b[1;33m(\u001b[0m\u001b[1;32mlambda\u001b[0m \u001b[0mx\u001b[0m\u001b[1;33m:\u001b[0m \u001b[0mdatetime\u001b[0m\u001b[1;33m.\u001b[0m\u001b[0mstrptime\u001b[0m\u001b[1;33m(\u001b[0m\u001b[0mx\u001b[0m\u001b[1;33m,\u001b[0m\u001b[1;34m'%Y-%m-%d %H:%M:%S'\u001b[0m\u001b[1;33m)\u001b[0m\u001b[1;33m)\u001b[0m\u001b[1;33m\u001b[0m\u001b[0m\n\u001b[0;32m     15\u001b[0m     \u001b[0mdataset_eng\u001b[0m\u001b[1;33m[\u001b[0m\u001b[1;34m'pickup_weekday'\u001b[0m\u001b[1;33m]\u001b[0m \u001b[1;33m=\u001b[0m \u001b[0mdataset_eng\u001b[0m\u001b[1;33m.\u001b[0m\u001b[0mpickup_datetime\u001b[0m\u001b[1;33m.\u001b[0m\u001b[0mapply\u001b[0m\u001b[1;33m(\u001b[0m\u001b[0mdatetime\u001b[0m\u001b[1;33m.\u001b[0m\u001b[0mweekday\u001b[0m\u001b[1;33m)\u001b[0m\u001b[1;33m\u001b[0m\u001b[0m\n",
      "\u001b[1;32mC:\\Users\\Alexandre\\Anaconda2\\lib\\site-packages\\pandas\\core\\generic.pyc\u001b[0m in \u001b[0;36mdrop\u001b[1;34m(self, labels, axis, level, inplace, errors)\u001b[0m\n\u001b[0;32m   2048\u001b[0m                 \u001b[0mnew_axis\u001b[0m \u001b[1;33m=\u001b[0m \u001b[0maxis\u001b[0m\u001b[1;33m.\u001b[0m\u001b[0mdrop\u001b[0m\u001b[1;33m(\u001b[0m\u001b[0mlabels\u001b[0m\u001b[1;33m,\u001b[0m \u001b[0mlevel\u001b[0m\u001b[1;33m=\u001b[0m\u001b[0mlevel\u001b[0m\u001b[1;33m,\u001b[0m \u001b[0merrors\u001b[0m\u001b[1;33m=\u001b[0m\u001b[0merrors\u001b[0m\u001b[1;33m)\u001b[0m\u001b[1;33m\u001b[0m\u001b[0m\n\u001b[0;32m   2049\u001b[0m             \u001b[1;32melse\u001b[0m\u001b[1;33m:\u001b[0m\u001b[1;33m\u001b[0m\u001b[0m\n\u001b[1;32m-> 2050\u001b[1;33m                 \u001b[0mnew_axis\u001b[0m \u001b[1;33m=\u001b[0m \u001b[0maxis\u001b[0m\u001b[1;33m.\u001b[0m\u001b[0mdrop\u001b[0m\u001b[1;33m(\u001b[0m\u001b[0mlabels\u001b[0m\u001b[1;33m,\u001b[0m \u001b[0merrors\u001b[0m\u001b[1;33m=\u001b[0m\u001b[0merrors\u001b[0m\u001b[1;33m)\u001b[0m\u001b[1;33m\u001b[0m\u001b[0m\n\u001b[0m\u001b[0;32m   2051\u001b[0m             \u001b[0mdropped\u001b[0m \u001b[1;33m=\u001b[0m \u001b[0mself\u001b[0m\u001b[1;33m.\u001b[0m\u001b[0mreindex\u001b[0m\u001b[1;33m(\u001b[0m\u001b[1;33m**\u001b[0m\u001b[1;33m{\u001b[0m\u001b[0maxis_name\u001b[0m\u001b[1;33m:\u001b[0m \u001b[0mnew_axis\u001b[0m\u001b[1;33m}\u001b[0m\u001b[1;33m)\u001b[0m\u001b[1;33m\u001b[0m\u001b[0m\n\u001b[0;32m   2052\u001b[0m             \u001b[1;32mtry\u001b[0m\u001b[1;33m:\u001b[0m\u001b[1;33m\u001b[0m\u001b[0m\n",
      "\u001b[1;32mC:\\Users\\Alexandre\\Anaconda2\\lib\\site-packages\\pandas\\core\\indexes\\base.pyc\u001b[0m in \u001b[0;36mdrop\u001b[1;34m(self, labels, errors)\u001b[0m\n\u001b[0;32m   3573\u001b[0m             \u001b[1;32mif\u001b[0m \u001b[0merrors\u001b[0m \u001b[1;33m!=\u001b[0m \u001b[1;34m'ignore'\u001b[0m\u001b[1;33m:\u001b[0m\u001b[1;33m\u001b[0m\u001b[0m\n\u001b[0;32m   3574\u001b[0m                 raise ValueError('labels %s not contained in axis' %\n\u001b[1;32m-> 3575\u001b[1;33m                                  labels[mask])\n\u001b[0m\u001b[0;32m   3576\u001b[0m             \u001b[0mindexer\u001b[0m \u001b[1;33m=\u001b[0m \u001b[0mindexer\u001b[0m\u001b[1;33m[\u001b[0m\u001b[1;33m~\u001b[0m\u001b[0mmask\u001b[0m\u001b[1;33m]\u001b[0m\u001b[1;33m\u001b[0m\u001b[0m\n\u001b[0;32m   3577\u001b[0m         \u001b[1;32mreturn\u001b[0m \u001b[0mself\u001b[0m\u001b[1;33m.\u001b[0m\u001b[0mdelete\u001b[0m\u001b[1;33m(\u001b[0m\u001b[0mindexer\u001b[0m\u001b[1;33m)\u001b[0m\u001b[1;33m\u001b[0m\u001b[0m\n",
      "\u001b[1;31mValueError\u001b[0m: labels ['Unnamed: 0'] not contained in axis"
     ]
    }
   ],
   "source": [
    "train_eng = append_features(train)\n",
    "test_eng = append_features(test)\n",
    "train_eng.describe()"
   ]
  },
  {
   "cell_type": "markdown",
   "metadata": {},
   "source": [
    "#### Distribution of trips per duration"
   ]
  },
  {
   "cell_type": "code",
   "execution_count": 60,
   "metadata": {
    "_cell_guid": "b16e6cc0-40cf-4136-a942-86cd73a250b3",
    "_uuid": "b943a1c18a38059bf3d6b75aef70eba570d30d15",
    "scrolled": false
   },
   "outputs": [
    {
     "data": {
      "image/png": "[encoded data removed]",
      "text/plain": [
       "<matplotlib.figure.Figure at 0x2c2c4a90>"
      ]
     },
     "metadata": {},
     "output_type": "display_data"
    },
    {
     "data": {
      "image/png": "[encoded data removed]",
      "text/plain": [
       "<matplotlib.figure.Figure at 0x1c809400>"
      ]
     },
     "metadata": {},
     "output_type": "display_data"
    }
   ],
   "source": [
    "fig1 = train_eng.trip_duration.hist(bins = 20,log=True)\n",
    "fig1.set_xlabel(\"Trip duration (s)\")\n",
    "fig1.set_ylabel(\"Number of Trips\")\n",
    "plt.show()\n",
    "\n",
    "fig2 = train_eng[train_eng['trip_duration']<3600*1].trip_duration.hist()\n",
    "fig2.set_xlabel(\"Trip duration (s)\")\n",
    "fig2.set_ylabel(\"Number of Trips\")\n",
    "plt.show()"
   ]
  },
  {
   "cell_type": "code",
   "execution_count": 6,
   "metadata": {
    "collapsed": true,
    "scrolled": true
   },
   "outputs": [],
   "source": [
    "## Function that receives a column of values already grouped by weekday and hour and aggregated, and plots the heat map\n",
    "def plot_per_weekday_hour(aggregated_data, title = '' ):\n",
    "    fig = sns.heatmap(aggregated_data.values.reshape((7,24)), cmap = 'jet')\n",
    "    fig.set_xlabel('Hour')\n",
    "    fig.set_ylabel('Day of the week')\n",
    "    fig.set_title(title)\n",
    "    plt.show()\n",
    "    \n",
    "#keep only trips that took less than 1 hour\n",
    "aggregated_set = train_eng[train_eng['duration_in_seconds']<3600*1].groupby(['pickup_weekday','pickup_hour'])"
   ]
  },
  {
   "cell_type": "code",
   "execution_count": 62,
   "metadata": {},
   "outputs": [
    {
     "data": {
      "image/png": "[encoded data removed]",
      "text/plain": [
       "<matplotlib.figure.Figure at 0x1d5313c8>"
      ]
     },
     "metadata": {},
     "output_type": "display_data"
    }
   ],
   "source": [
    "\n",
    "plot_per_weekday_hour(aggregated_set.count()['id'], \n",
    "                      'Count of trips per hour and day of the week')"
   ]
  },
  {
   "cell_type": "markdown",
   "metadata": {},
   "source": [
    "Most busy hours are between 17-24h on every day of the week except for Sundays"
   ]
  },
  {
   "cell_type": "code",
   "execution_count": 63,
   "metadata": {},
   "outputs": [
    {
     "data": {
      "image/png": "[encoded data removed]",
      "text/plain": [
       "<matplotlib.figure.Figure at 0x1eb3cc88>"
      ]
     },
     "metadata": {},
     "output_type": "display_data"
    }
   ],
   "source": [
    "plot_per_weekday_hour(aggregated_set.mean()['duration_in_seconds'], \n",
    "                      'Average trip duration per hour and day of the week')"
   ]
  },
  {
   "cell_type": "markdown",
   "metadata": {},
   "source": [
    "Longest trips happen from Tuesday to Friday between 10 and 17h (perhaps due to traffic?)"
   ]
  },
  {
   "cell_type": "code",
   "execution_count": 64,
   "metadata": {
    "scrolled": true
   },
   "outputs": [
    {
     "data": {
      "image/png": "[encoded data removed]",
      "text/plain": [
       "<matplotlib.figure.Figure at 0x1c933c88>"
      ]
     },
     "metadata": {},
     "output_type": "display_data"
    }
   ],
   "source": [
    "plot_per_weekday_hour(aggregated_set.std()['duration_in_seconds'], \n",
    "                      'Std. Dev. of trip duration per hour and day of the week')"
   ]
  },
  {
   "cell_type": "raw",
   "metadata": {},
   "source": [
    "Most diverse trip duration happens Tue, Wed and Thursdays between 14 and 17h (indicating heavy traffic?)"
   ]
  },
  {
   "cell_type": "markdown",
   "metadata": {},
   "source": [
    "### Clustering by dropoff and pickup positions, hour and day of the week"
   ]
  },
  {
   "cell_type": "code",
   "execution_count": 67,
   "metadata": {
    "scrolled": true
   },
   "outputs": [
    {
     "data": {
      "image/png": "[encoded data removed]",
      "text/plain": [
       "<matplotlib.figure.Figure at 0x2c9c5c18>"
      ]
     },
     "metadata": {},
     "output_type": "display_data"
    }
   ],
   "source": [
    "plt.scatter(train_eng.pickup_latitude, train_eng.pickup_longitude)\n",
    "plt.show()"
   ]
  },
  {
   "cell_type": "code",
   "execution_count": 69,
   "metadata": {
    "scrolled": true
   },
   "outputs": [
    {
     "data": {
      "image/png": "[encoded data removed]",
      "text/plain": [
       "<matplotlib.figure.Figure at 0x2c47a550>"
      ]
     },
     "metadata": {},
     "output_type": "display_data"
    }
   ],
   "source": [
    "plt.scatter(test_eng.pickup_latitude, test_eng.pickup_longitude)\n",
    "plt.show()"
   ]
  },
  {
   "cell_type": "markdown",
   "metadata": {},
   "source": [
    "Some trips are way more distant and take longer than the rest so it won't be possible to obtain an accurate estimate from their neighbors, i.e clustering won't work for these ones...\n",
    "\n",
    "Perhaps linear regression could be more useful in these cases!"
   ]
  },
  {
   "cell_type": "code",
   "execution_count": 75,
   "metadata": {
    "scrolled": false
   },
   "outputs": [
    {
     "data": {
      "image/png": "[encoded data removed]",
      "text/plain": [
       "<matplotlib.figure.Figure at 0x2c5cc208>"
      ]
     },
     "metadata": {},
     "output_type": "display_data"
    },
    {
     "data": {
      "image/png": "[encoded data removed]",
      "text/plain": [
       "<matplotlib.figure.Figure at 0x1eb6b748>"
      ]
     },
     "metadata": {},
     "output_type": "display_data"
    }
   ],
   "source": [
    "ax = plt.plot(train_eng.distance, train_eng.trip_duration,',')\n",
    "plt.xlim(0,8)\n",
    "plt.ylim(0,8000)\n",
    "plt.show()\n",
    "\n",
    "ax = plt.plot(train_eng.distance, train_eng.trip_duration,'o')\n",
    "plt.ylim(0,4000)\n",
    "plt.show()"
   ]
  },
  {
   "cell_type": "markdown",
   "metadata": {},
   "source": [
    "##### Keep only interesting trips (the ones that took under 2h)"
   ]
  },
  {
   "cell_type": "code",
   "execution_count": 110,
   "metadata": {},
   "outputs": [],
   "source": [
    "short_trips = train_eng[(train_eng.trip_duration < 3600*2) & (train_eng.distance < 8)]"
   ]
  },
  {
   "cell_type": "code",
   "execution_count": 111,
   "metadata": {
    "scrolled": true
   },
   "outputs": [
    {
     "data": {
      "text/html": [
       "<div>\n",
       "<style>\n",
       "    .dataframe thead tr:only-child th {\n",
       "        text-align: right;\n",
       "    }\n",
       "\n",
       "    .dataframe thead th {\n",
       "        text-align: left;\n",
       "    }\n",
       "\n",
       "    .dataframe tbody tr th {\n",
       "        vertical-align: top;\n",
       "    }\n",
       "</style>\n",
       "<table border=\"1\" class=\"dataframe\">\n",
       "  <thead>\n",
       "    <tr style=\"text-align: right;\">\n",
       "      <th></th>\n",
       "      <th>passenger_count</th>\n",
       "      <th>pickup_longitude</th>\n",
       "      <th>pickup_latitude</th>\n",
       "      <th>dropoff_longitude</th>\n",
       "      <th>dropoff_latitude</th>\n",
       "      <th>trip_duration</th>\n",
       "      <th>pickup_weekday</th>\n",
       "      <th>pickup_hour</th>\n",
       "      <th>distance</th>\n",
       "    </tr>\n",
       "  </thead>\n",
       "  <tbody>\n",
       "    <tr>\n",
       "      <th>count</th>\n",
       "      <td>99798.000000</td>\n",
       "      <td>99798.000000</td>\n",
       "      <td>99798.000000</td>\n",
       "      <td>99798.000000</td>\n",
       "      <td>99798.000000</td>\n",
       "      <td>99798.000000</td>\n",
       "      <td>99798.000000</td>\n",
       "      <td>99798.000000</td>\n",
       "      <td>99798.000000</td>\n",
       "    </tr>\n",
       "    <tr>\n",
       "      <th>mean</th>\n",
       "      <td>1.670274</td>\n",
       "      <td>-0.000906</td>\n",
       "      <td>-0.013464</td>\n",
       "      <td>0.000433</td>\n",
       "      <td>0.012711</td>\n",
       "      <td>832.664542</td>\n",
       "      <td>3.045362</td>\n",
       "      <td>13.618940</td>\n",
       "      <td>0.654186</td>\n",
       "    </tr>\n",
       "    <tr>\n",
       "      <th>std</th>\n",
       "      <td>1.319346</td>\n",
       "      <td>0.990605</td>\n",
       "      <td>0.888899</td>\n",
       "      <td>0.987537</td>\n",
       "      <td>0.993245</td>\n",
       "      <td>650.440767</td>\n",
       "      <td>1.954669</td>\n",
       "      <td>6.412265</td>\n",
       "      <td>0.710153</td>\n",
       "    </tr>\n",
       "    <tr>\n",
       "      <th>min</th>\n",
       "      <td>0.000000</td>\n",
       "      <td>-302.821969</td>\n",
       "      <td>-96.703465</td>\n",
       "      <td>-302.821776</td>\n",
       "      <td>-96.709061</td>\n",
       "      <td>1.000000</td>\n",
       "      <td>0.000000</td>\n",
       "      <td>0.000000</td>\n",
       "      <td>0.000000</td>\n",
       "    </tr>\n",
       "    <tr>\n",
       "      <th>25%</th>\n",
       "      <td>1.000000</td>\n",
       "      <td>-0.113014</td>\n",
       "      <td>-0.403473</td>\n",
       "      <td>-0.109112</td>\n",
       "      <td>-0.437625</td>\n",
       "      <td>395.250000</td>\n",
       "      <td>1.000000</td>\n",
       "      <td>9.000000</td>\n",
       "      <td>0.220986</td>\n",
       "    </tr>\n",
       "    <tr>\n",
       "      <th>50%</th>\n",
       "      <td>1.000000</td>\n",
       "      <td>-0.049088</td>\n",
       "      <td>0.076433</td>\n",
       "      <td>-0.035889</td>\n",
       "      <td>0.095635</td>\n",
       "      <td>658.000000</td>\n",
       "      <td>3.000000</td>\n",
       "      <td>14.000000</td>\n",
       "      <td>0.423730</td>\n",
       "    </tr>\n",
       "    <tr>\n",
       "      <th>75%</th>\n",
       "      <td>2.000000</td>\n",
       "      <td>0.041044</td>\n",
       "      <td>0.488996</td>\n",
       "      <td>0.068551</td>\n",
       "      <td>0.530911</td>\n",
       "      <td>1069.000000</td>\n",
       "      <td>5.000000</td>\n",
       "      <td>19.000000</td>\n",
       "      <td>0.805447</td>\n",
       "    </tr>\n",
       "    <tr>\n",
       "      <th>max</th>\n",
       "      <td>6.000000</td>\n",
       "      <td>3.614145</td>\n",
       "      <td>15.088894</td>\n",
       "      <td>4.555448</td>\n",
       "      <td>15.088894</td>\n",
       "      <td>6900.000000</td>\n",
       "      <td>6.000000</td>\n",
       "      <td>23.000000</td>\n",
       "      <td>7.679040</td>\n",
       "    </tr>\n",
       "  </tbody>\n",
       "</table>\n",
       "</div>"
      ],
      "text/plain": [
       "       passenger_count  pickup_longitude  pickup_latitude  dropoff_longitude  \\\n",
       "count     99798.000000      99798.000000     99798.000000       99798.000000   \n",
       "mean          1.670274         -0.000906        -0.013464           0.000433   \n",
       "std           1.319346          0.990605         0.888899           0.987537   \n",
       "min           0.000000       -302.821969       -96.703465        -302.821776   \n",
       "25%           1.000000         -0.113014        -0.403473          -0.109112   \n",
       "50%           1.000000         -0.049088         0.076433          -0.035889   \n",
       "75%           2.000000          0.041044         0.488996           0.068551   \n",
       "max           6.000000          3.614145        15.088894           4.555448   \n",
       "\n",
       "       dropoff_latitude  trip_duration  pickup_weekday   pickup_hour  \\\n",
       "count      99798.000000   99798.000000    99798.000000  99798.000000   \n",
       "mean           0.012711     832.664542        3.045362     13.618940   \n",
       "std            0.993245     650.440767        1.954669      6.412265   \n",
       "min          -96.709061       1.000000        0.000000      0.000000   \n",
       "25%           -0.437625     395.250000        1.000000      9.000000   \n",
       "50%            0.095635     658.000000        3.000000     14.000000   \n",
       "75%            0.530911    1069.000000        5.000000     19.000000   \n",
       "max           15.088894    6900.000000        6.000000     23.000000   \n",
       "\n",
       "           distance  \n",
       "count  99798.000000  \n",
       "mean       0.654186  \n",
       "std        0.710153  \n",
       "min        0.000000  \n",
       "25%        0.220986  \n",
       "50%        0.423730  \n",
       "75%        0.805447  \n",
       "max        7.679040  "
      ]
     },
     "execution_count": 111,
     "metadata": {},
     "output_type": "execute_result"
    }
   ],
   "source": [
    "short_trips.describe()"
   ]
  },
  {
   "cell_type": "code",
   "execution_count": 181,
   "metadata": {},
   "outputs": [],
   "source": [
    "X = short_trips[[\n",
    "    'pickup_hour', \n",
    "    'pickup_weekday',\n",
    "    'pickup_longitude', \n",
    "    'pickup_latitude', \n",
    "    'dropoff_longitude', \n",
    "    'dropoff_latitude']].values\n",
    "\n",
    "X = X*[5,100,1,1,1,1]\n",
    "y = short_trips['trip_duration'].values\n",
    "\n",
    "X_train, X_test, y_train, y_test = model_selection.train_test_split(\n",
    "    X, y, test_size=0.10, random_state=42)"
   ]
  },
  {
   "cell_type": "code",
   "execution_count": 186,
   "metadata": {},
   "outputs": [],
   "source": [
    "neigh = KNeighborsRegressor(n_neighbors=5)\n",
    "neigh.fit(X_train, y_train)\n",
    "y_pred = np.int64(neigh.predict(X_test).round())"
   ]
  },
  {
   "cell_type": "code",
   "execution_count": 187,
   "metadata": {},
   "outputs": [
    {
     "name": "stdout",
     "output_type": "stream",
     "text": [
      "Mean Absolute Error: 268.565230461\n",
      "R2: 0.598769856938\n"
     ]
    }
   ],
   "source": [
    "print(\"Mean Absolute Error: {}\".format(metrics.mean_absolute_error(y_test, y_pred)))\n",
    "#print(\"Mean Squared Logarithmic Error: {}\".format(metrics.mean_absolute_log_error(y_test, y_pred)))  > try later\n",
    "print(\"R2: {}\".format(metrics.r2_score(y_test,y_pred)))"
   ]
  },
  {
   "cell_type": "markdown",
   "metadata": {},
   "source": [
    "Bela m*******"
   ]
  },
  {
   "cell_type": "markdown",
   "metadata": {},
   "source": [
    "### Predict with test set"
   ]
  },
  {
   "cell_type": "code",
   "execution_count": 13,
   "metadata": {
    "scrolled": true
   },
   "outputs": [
    {
     "data": {
      "text/html": [
       "<div>\n",
       "<style>\n",
       "    .dataframe thead tr:only-child th {\n",
       "        text-align: right;\n",
       "    }\n",
       "\n",
       "    .dataframe thead th {\n",
       "        text-align: left;\n",
       "    }\n",
       "\n",
       "    .dataframe tbody tr th {\n",
       "        vertical-align: top;\n",
       "    }\n",
       "</style>\n",
       "<table border=\"1\" class=\"dataframe\">\n",
       "  <thead>\n",
       "    <tr style=\"text-align: right;\">\n",
       "      <th></th>\n",
       "      <th>vendor_id</th>\n",
       "      <th>passenger_count</th>\n",
       "      <th>pickup_longitude</th>\n",
       "      <th>pickup_latitude</th>\n",
       "      <th>dropoff_longitude</th>\n",
       "      <th>dropoff_latitude</th>\n",
       "      <th>pickup_weekday</th>\n",
       "      <th>pickup_hour</th>\n",
       "      <th>distance</th>\n",
       "    </tr>\n",
       "  </thead>\n",
       "  <tbody>\n",
       "    <tr>\n",
       "      <th>count</th>\n",
       "      <td>625134.000000</td>\n",
       "      <td>625134.000000</td>\n",
       "      <td>625134.000000</td>\n",
       "      <td>625134.000000</td>\n",
       "      <td>625134.000000</td>\n",
       "      <td>625134.000000</td>\n",
       "      <td>625134.000000</td>\n",
       "      <td>625134.000000</td>\n",
       "      <td>625134.000000</td>\n",
       "    </tr>\n",
       "    <tr>\n",
       "      <th>mean</th>\n",
       "      <td>1.534884</td>\n",
       "      <td>1.661765</td>\n",
       "      <td>-73.973614</td>\n",
       "      <td>40.750927</td>\n",
       "      <td>-73.973458</td>\n",
       "      <td>40.751816</td>\n",
       "      <td>3.047670</td>\n",
       "      <td>13.610228</td>\n",
       "      <td>0.035400</td>\n",
       "    </tr>\n",
       "    <tr>\n",
       "      <th>std</th>\n",
       "      <td>0.498782</td>\n",
       "      <td>1.311293</td>\n",
       "      <td>0.073389</td>\n",
       "      <td>0.029848</td>\n",
       "      <td>0.072565</td>\n",
       "      <td>0.035824</td>\n",
       "      <td>1.953951</td>\n",
       "      <td>6.394761</td>\n",
       "      <td>0.045585</td>\n",
       "    </tr>\n",
       "    <tr>\n",
       "      <th>min</th>\n",
       "      <td>1.000000</td>\n",
       "      <td>0.000000</td>\n",
       "      <td>-121.933128</td>\n",
       "      <td>37.389587</td>\n",
       "      <td>-121.933327</td>\n",
       "      <td>36.601322</td>\n",
       "      <td>0.000000</td>\n",
       "      <td>0.000000</td>\n",
       "      <td>0.000000</td>\n",
       "    </tr>\n",
       "    <tr>\n",
       "      <th>25%</th>\n",
       "      <td>1.000000</td>\n",
       "      <td>1.000000</td>\n",
       "      <td>-73.991852</td>\n",
       "      <td>40.737392</td>\n",
       "      <td>-73.991318</td>\n",
       "      <td>40.736000</td>\n",
       "      <td>1.000000</td>\n",
       "      <td>9.000000</td>\n",
       "      <td>0.012590</td>\n",
       "    </tr>\n",
       "    <tr>\n",
       "      <th>50%</th>\n",
       "      <td>2.000000</td>\n",
       "      <td>1.000000</td>\n",
       "      <td>-73.981743</td>\n",
       "      <td>40.754093</td>\n",
       "      <td>-73.979774</td>\n",
       "      <td>40.754543</td>\n",
       "      <td>3.000000</td>\n",
       "      <td>14.000000</td>\n",
       "      <td>0.021216</td>\n",
       "    </tr>\n",
       "    <tr>\n",
       "      <th>75%</th>\n",
       "      <td>2.000000</td>\n",
       "      <td>2.000000</td>\n",
       "      <td>-73.967400</td>\n",
       "      <td>40.768394</td>\n",
       "      <td>-73.963013</td>\n",
       "      <td>40.769852</td>\n",
       "      <td>5.000000</td>\n",
       "      <td>19.000000</td>\n",
       "      <td>0.038454</td>\n",
       "    </tr>\n",
       "    <tr>\n",
       "      <th>max</th>\n",
       "      <td>2.000000</td>\n",
       "      <td>9.000000</td>\n",
       "      <td>-69.248917</td>\n",
       "      <td>42.814938</td>\n",
       "      <td>-67.496796</td>\n",
       "      <td>48.857597</td>\n",
       "      <td>6.000000</td>\n",
       "      <td>23.000000</td>\n",
       "      <td>10.385000</td>\n",
       "    </tr>\n",
       "  </tbody>\n",
       "</table>\n",
       "</div>"
      ],
      "text/plain": [
       "           vendor_id  passenger_count  pickup_longitude  pickup_latitude  \\\n",
       "count  625134.000000    625134.000000     625134.000000    625134.000000   \n",
       "mean        1.534884         1.661765        -73.973614        40.750927   \n",
       "std         0.498782         1.311293          0.073389         0.029848   \n",
       "min         1.000000         0.000000       -121.933128        37.389587   \n",
       "25%         1.000000         1.000000        -73.991852        40.737392   \n",
       "50%         2.000000         1.000000        -73.981743        40.754093   \n",
       "75%         2.000000         2.000000        -73.967400        40.768394   \n",
       "max         2.000000         9.000000        -69.248917        42.814938   \n",
       "\n",
       "       dropoff_longitude  dropoff_latitude  pickup_weekday    pickup_hour  \\\n",
       "count      625134.000000     625134.000000   625134.000000  625134.000000   \n",
       "mean          -73.973458         40.751816        3.047670      13.610228   \n",
       "std             0.072565          0.035824        1.953951       6.394761   \n",
       "min          -121.933327         36.601322        0.000000       0.000000   \n",
       "25%           -73.991318         40.736000        1.000000       9.000000   \n",
       "50%           -73.979774         40.754543        3.000000      14.000000   \n",
       "75%           -73.963013         40.769852        5.000000      19.000000   \n",
       "max           -67.496796         48.857597        6.000000      23.000000   \n",
       "\n",
       "            distance  \n",
       "count  625134.000000  \n",
       "mean        0.035400  \n",
       "std         0.045585  \n",
       "min         0.000000  \n",
       "25%         0.012590  \n",
       "50%         0.021216  \n",
       "75%         0.038454  \n",
       "max        10.385000  "
      ]
     },
     "execution_count": 13,
     "metadata": {},
     "output_type": "execute_result"
    }
   ],
   "source": [
    "test_eng.describe()"
   ]
  },
  {
   "cell_type": "markdown",
   "metadata": {},
   "source": [
    "2. Classifier\n",
    "    Train"
   ]
  },
  {
   "cell_type": "code",
   "execution_count": 14,
   "metadata": {
    "collapsed": true
   },
   "outputs": [],
   "source": [
    "X = train_eng[['pickup_hour','pickup_weekday']]\n",
    "Y = train_eng.duration_in_seconds\n",
    "\n",
    "clf = tree.DecisionTreeRegressor()\n",
    "clf = clf.fit(X,Y)"
   ]
  },
  {
   "cell_type": "markdown",
   "metadata": {},
   "source": [
    "    Predict"
   ]
  },
  {
   "cell_type": "code",
   "execution_count": 15,
   "metadata": {
    "collapsed": true
   },
   "outputs": [],
   "source": [
    "pred = clf.predict(test_eng[['pickup_hour','pickup_weekday']])"
   ]
  },
  {
   "cell_type": "code",
   "execution_count": 16,
   "metadata": {
    "scrolled": true
   },
   "outputs": [
    {
     "data": {
      "text/plain": [
       "array([ 980.300123  ,  980.300123  ,  980.300123  , ...,  791.77640845,\n",
       "        791.77640845,  791.77640845])"
      ]
     },
     "execution_count": 16,
     "metadata": {},
     "output_type": "execute_result"
    }
   ],
   "source": [
    "pred"
   ]
  }
 ],
 "metadata": {
  "kernelspec": {
   "display_name": "Python 2",
   "language": "python",
   "name": "python2"
  },
  "language_info": {
   "codemirror_mode": {
    "name": "ipython",
    "version": 2
   },
   "file_extension": ".py",
   "mimetype": "text/x-python",
   "name": "python",
   "nbconvert_exporter": "python",
   "pygments_lexer": "ipython2",
   "version": "2.7.13"
  }
 },
 "nbformat": 4,
 "nbformat_minor": 1
}
