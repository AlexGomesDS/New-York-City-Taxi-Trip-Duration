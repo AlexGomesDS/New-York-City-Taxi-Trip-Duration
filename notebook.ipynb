{
  "cells": [
    {
      "metadata": {
        "_uuid": "31c349db4a9e8bdac08ca6f4c9d0769cc9224772",
        "_cell_guid": "72a6e4ec-921b-43d5-b959-4c75c27e1063",
        "trusted": false,
        "collapsed": true
      },
      "cell_type": "code",
      "source": "# This Python 3 environment comes with many helpful analytics libraries installed\n# It is defined by the kaggle/python docker image: https://github.com/kaggle/docker-python\n# For example, here's several helpful packages to load in \n\nimport numpy as np # linear algebra\nimport pandas as pd # data processing, CSV file I/O (e.g. pd.read_csv)\nfrom datetime import datetime #Monday's weekday is 0\n\n# Input data files are available in the \"../input/\" directory.\n# For example, running this (by clicking run or pressing Shift+Enter) will list the files in the input directory\n\nfrom subprocess import check_output\nprint(check_output([\"ls\", \"../input\"]).decode(\"utf8\"))\n\n# Any results you write to the current directory are saved as output.\n\n#import datasets\ntrain = pd.read_csv('../input/train.csv')",
      "execution_count": null,
      "outputs": []
    },
    {
      "metadata": {
        "_uuid": "36eac2ed836bf0e471d10ff66725dac16638396e",
        "_cell_guid": "8327bfc5-3e3f-469f-859f-3eb529aeba6f",
        "trusted": false,
        "collapsed": true
      },
      "cell_type": "code",
      "source": "train.head()",
      "execution_count": null,
      "outputs": []
    },
    {
      "metadata": {
        "_uuid": "44a46d467cce0c0a425c9863bf4c848d050c00b2",
        "_cell_guid": "640b7a3c-60c6-491f-bd10-9f87905a99d8"
      },
      "cell_type": "markdown",
      "source": "1. **Feature Engineering**"
    },
    {
      "metadata": {
        "_uuid": "109ff2effd1535aadfde939389d7fba226c03be0",
        "_cell_guid": "648ca1ff-8966-45a6-9dc1-ec699f588435",
        "trusted": false,
        "collapsed": true
      },
      "cell_type": "code",
      "source": " # Creating three new features: weekday, hour and trip duration and add them to an engineered dataset\ntrain_eng = train\ntrain_eng['pickup_datetime'] = train.pickup_datetime.apply(lambda x: datetime.strptime(x,'%Y-%m-%d %H:%M:%S'))\ntrain_eng['dropoff_datetime'] = train.dropoff_datetime.apply(lambda x: datetime.strptime(x,'%Y-%m-%d %H:%M:%S'))\ntrain_eng['pickup_weekday'] = train_eng.pickup_datetime.apply(datetime.weekday)\ntrain_eng['pickup_hour'] = train_eng.pickup_datetime.apply(lambda x: x.hour)\ntrain_eng['trip_duration'] = train_eng['dropoff_datetime'] - train_eng['pickup_datetime'] \ntrain_eng['trip_duration_in_seconds'] = train_eng['trip_duration'].apply(lambda x : x.seconds)",
      "execution_count": null,
      "outputs": []
    },
    {
      "metadata": {
        "_uuid": "a05772de8a6cd0a286f32f2b24a0d98b95de8719",
        "scrolled": true,
        "_cell_guid": "1c1e326e-f139-4068-89e9-9a51d4f89b74",
        "trusted": false,
        "collapsed": true
      },
      "cell_type": "code",
      "source": "train_eng.describe()",
      "execution_count": null,
      "outputs": []
    },
    {
      "metadata": {
        "_uuid": "b943a1c18a38059bf3d6b75aef70eba570d30d15",
        "_cell_guid": "b16e6cc0-40cf-4136-a942-86cd73a250b3",
        "trusted": false,
        "collapsed": true
      },
      "cell_type": "code",
      "source": "train_eng[train_eng['trip_duration_in_seconds']<3600*1].trip_duration_in_seconds.hist()",
      "execution_count": null,
      "outputs": []
    }
  ],
  "metadata": {
    "language_info": {
      "nbconvert_exporter": "python",
      "name": "python",
      "pygments_lexer": "ipython3",
      "file_extension": ".py",
      "version": "3.6.3",
      "codemirror_mode": {
        "name": "ipython",
        "version": 3
      },
      "mimetype": "text/x-python"
    },
    "kernelspec": {
      "display_name": "Python 3",
      "language": "python",
      "name": "python3"
    }
  },
  "nbformat": 4,
  "nbformat_minor": 1
}